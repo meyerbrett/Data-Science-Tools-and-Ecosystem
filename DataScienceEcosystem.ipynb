{
 "cells": [
  {
   "cell_type": "markdown",
   "id": "fd4e8624-7d6a-4964-a1e2-2a821863e3be",
   "metadata": {},
   "source": [
    "# Data Science Tools and Ecosystem"
   ]
  },
  {
   "cell_type": "markdown",
   "id": "d80278e5-2347-4af9-bf2e-889d138d59a3",
   "metadata": {},
   "source": [
    "## Brett Meyer"
   ]
  },
  {
   "cell_type": "markdown",
   "id": "f677e555-bb44-4676-b95f-262e32e5343d",
   "metadata": {},
   "source": [
    "In this notebook, Data Science Tools and Ecosystem are summarized."
   ]
  },
  {
   "cell_type": "markdown",
   "id": "d2355007-ef22-464a-9e70-ea5734349f16",
   "metadata": {},
   "source": [
    "**Objectives**\n",
    "\n",
    "-List popular languages for Data Science\n",
    "\n",
    "-List commonly used data science libraries\n",
    "\n",
    "-List some data science tools\n",
    "\n",
    "-Demonstrate some simple arithmetic expressions in Python"
   ]
  },
  {
   "cell_type": "markdown",
   "id": "20484559-41e3-485c-8f15-12f451aaff62",
   "metadata": {},
   "source": [
    "Some of the popular languages that Data Scientists use are:\n",
    "\n",
    "1. Python\n",
    "2. R\n",
    "3. Julia"
   ]
  },
  {
   "cell_type": "markdown",
   "id": "415eedae-7951-407b-9776-07b386c42b6a",
   "metadata": {},
   "source": [
    "Some of the commonly used libraries used by Data Scientists include:\n",
    "\n",
    "1. ggplot\n",
    "2. NumPy\n",
    "3. Pandas"
   ]
  },
  {
   "cell_type": "markdown",
   "id": "f77809dd-cf9b-455b-9984-bb599553dae0",
   "metadata": {},
   "source": [
    "| Data Science Tools |\n",
    "|---|\n",
    "| Jupyter Notebook |\n",
    "| RStudio |\n",
    "| Spyder |\n"
   ]
  },
  {
   "cell_type": "markdown",
   "id": "3026a093-8750-41a4-ad2a-78367590e808",
   "metadata": {},
   "source": [
    "### Below are a few examples of evaluating arithmetic expressions in Python"
   ]
  },
  {
   "cell_type": "code",
   "execution_count": 4,
   "id": "95908017-262b-473e-ba2c-f3de2e354502",
   "metadata": {},
   "outputs": [
    {
     "data": {
      "text/plain": [
       "17"
      ]
     },
     "execution_count": 4,
     "metadata": {},
     "output_type": "execute_result"
    }
   ],
   "source": [
    "#This a simple arithmetic expression to mutiply then add integers\n",
    "(3*4)+5"
   ]
  },
  {
   "cell_type": "code",
   "execution_count": 5,
   "id": "ca570c4b-fa0a-4c40-9456-bb2bb377e58f",
   "metadata": {},
   "outputs": [
    {
     "data": {
      "text/plain": [
       "3.3333333333333335"
      ]
     },
     "execution_count": 5,
     "metadata": {},
     "output_type": "execute_result"
    }
   ],
   "source": [
    "#This will convert 200 minutes to hours by diving by 60\n",
    "200/60"
   ]
  },
  {
   "cell_type": "code",
   "execution_count": null,
   "id": "5e78284c-77d8-4fce-a2f3-fbc75f556ebe",
   "metadata": {},
   "outputs": [],
   "source": []
  }
 ],
 "metadata": {
  "kernelspec": {
   "display_name": "Python [conda env:RP_Env]",
   "language": "python",
   "name": "conda-env-RP_Env-py"
  },
  "language_info": {
   "codemirror_mode": {
    "name": "ipython",
    "version": 3
   },
   "file_extension": ".py",
   "mimetype": "text/x-python",
   "name": "python",
   "nbconvert_exporter": "python",
   "pygments_lexer": "ipython3",
   "version": "3.13.7"
  }
 },
 "nbformat": 4,
 "nbformat_minor": 5
}
